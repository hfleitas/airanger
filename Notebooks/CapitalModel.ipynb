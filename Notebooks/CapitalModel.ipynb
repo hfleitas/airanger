{
    "metadata": {
        "kernelspec": {
            "name": "SQL",
            "display_name": "SQL",
            "language": "sql"
        },
        "language_info": {
            "name": "sql",
            "version": ""
        }
    },
    "nbformat_minor": 2,
    "nbformat": 4,
    "cells": [
        {
            "cell_type": "markdown",
            "source": [
                "## Capital Model\r\n",
                "Cubist sample"
            ],
            "metadata": {
                "azdata_cell_guid": "c6acfadd-0deb-498c-a2cf-60ce553e7c7a"
            },
            "attachments": {}
        },
        {
            "cell_type": "code",
            "source": [
                "if db_id('CapitalModel') is null create database CapitalModel\r\n",
                "go \r\n",
                "use CapitalModel"
            ],
            "metadata": {
                "azdata_cell_guid": "491d2f58-7c0c-4aed-ba7a-1b91aac7119b"
            },
            "outputs": [
                {
                    "output_type": "display_data",
                    "data": {
                        "text/html": "Commands completed successfully."
                    },
                    "metadata": {}
                },
                {
                    "output_type": "display_data",
                    "data": {
                        "text/html": "Commands completed successfully."
                    },
                    "metadata": {}
                },
                {
                    "output_type": "display_data",
                    "data": {
                        "text/html": "Total execution time: 00:00:00.076"
                    },
                    "metadata": {}
                }
            ],
            "execution_count": 2
        },
        {
            "cell_type": "markdown",
            "source": [
                "## Datasets\n",
                "\n",
                "[https://github.com/hfleitas/AzureSynapseForActuaries/tree/main/demo\\_data](https://github.com/hfleitas/AzureSynapseForActuaries/tree/main/demo_data)"
            ],
            "metadata": {
                "azdata_cell_guid": "8361e6a6-158c-4226-9b6b-e1c9694c729d"
            },
            "attachments": {}
        },
        {
            "cell_type": "code",
            "source": [
                "truncate table cubist_sample_input;\r\n",
                "go\r\n",
                "BULK INSERT cubist_sample_input\r\n",
                "FROM 'D:\\cubist_sample_input.txt' \r\n",
                "WITH ( FORMAT='CSV', firstrow = 2);\r\n",
                "go"
            ],
            "metadata": {
                "azdata_cell_guid": "cd9b5ad0-8703-4c6c-bd29-3ae56930ac9a",
                "tags": [
                    "hide_input"
                ]
            },
            "outputs": [],
            "execution_count": null
        },
        {
            "cell_type": "code",
            "source": [
                "truncate table cubist_sample_output;\r\n",
                "go\r\n",
                "BULK INSERT cubist_sample_output\r\n",
                "FROM 'D:\\cubist_sample_output.txt' \r\n",
                "WITH ( FORMAT='CSV', firstrow = 2);"
            ],
            "metadata": {
                "azdata_cell_guid": "aaae6cf0-71e7-46cd-a652-118e050a6594",
                "tags": [
                    "hide_input"
                ]
            },
            "outputs": [],
            "execution_count": null
        },
        {
            "cell_type": "markdown",
            "source": [
                "## Libraries\n",
                "\n",
                "[https://github.com/hfleitas/AzureSynapseForActuaries/tree/main/installed](https://github.com/hfleitas/AzureSynapseForActuaries/tree/main/installed) \n",
                "\n",
                "```\n",
                "cmd \n",
                "dir -name\n",
                "```"
            ],
            "metadata": {
                "azdata_cell_guid": "89aa3349-e374-448a-a84c-b85f60d80db8"
            },
            "attachments": {}
        },
        {
            "cell_type": "code",
            "source": [
                "select 'create external library ['+ substring(name, 0, charindex('_', name)) + '] from (content= ''c:\\packages\\r3.5.2\\installed\\'+ name + ''') with (language = ''R''); '\r\n",
                "from ( \r\n",
                "    values  ('abind_1.4-5.zip'),\r\n",
                "            ('askpass_1.1.zip'),\r\n",
                "            ('assertthat_0.2.1.zip'),\r\n",
                "            ('backports_1.1.6.zip'),\r\n",
                "            ('base64enc_0.1-3.zip'),\r\n",
                "            ('BH_1.72.0-3.zip'),\r\n",
                "            ('bit64_0.9-7.zip'),\r\n",
                "            ('bit_1.1-15.2.zip'),\r\n",
                "            ('blob_1.2.1.zip'),\r\n",
                "            ('broom_0.5.6.zip'),\r\n",
                "            ('callr_3.4.3.zip'),\r\n",
                "            ('caret_6.0-86.zip'),\r\n",
                "            ('cellranger_1.1.0.zip'),\r\n",
                "            ('clipr_0.7.0.zip'),\r\n",
                "            ('cli_2.0.2.zip'),\r\n",
                "            ('colorspace_1.4-1.zip'),\r\n",
                "            ('covr_3.5.0.zip'),\r\n",
                "            ('crayon_1.3.4.zip'),\r\n",
                "            ('Cubist_0.2.3.zip'),\r\n",
                "            ('curl_4.3.zip'),\r\n",
                "            ('data.table_1.12.8.zip'),\r\n",
                "            ('DBI_1.1.0.zip'),\r\n",
                "            ('dbplyr_1.4.3.zip'),\r\n",
                "            ('desc_1.2.0.zip'),\r\n",
                "            ('digest_0.6.25.zip'),\r\n",
                "            ('doParallel_1.0.15.zip'),\r\n",
                "            ('doSNOW_1.0.18.zip'),\r\n",
                "            ('dplyr_0.8.5.zip'),\r\n",
                "            ('dtplyr_1.0.1.zip'),\r\n",
                "            ('ellipsis_0.3.0.zip'),\r\n",
                "            ('evaluate_0.14.zip'),\r\n",
                "            ('fansi_0.4.1.zip'),\r\n",
                "            ('farver_2.0.3.zip'),\r\n",
                "            ('feather_0.3.5.zip'),\r\n",
                "            ('forcats_0.5.0.zip'),\r\n",
                "            ('foreach_1.5.0.zip'),\r\n",
                "            ('fs_1.4.1.zip'),\r\n",
                "            ('generics_0.0.2.zip'),\r\n",
                "            ('ggplot2_3.3.0.zip'),\r\n",
                "            ('glue_1.4.0.zip'),\r\n",
                "            ('gower_0.2.1.zip'),\r\n",
                "            ('gtable_0.3.0.zip'),\r\n",
                "            ('haven_2.2.0.zip'),\r\n",
                "            ('highr_0.8.zip'),\r\n",
                "            ('hms_0.5.3.zip'),\r\n",
                "            ('htmltools_0.4.0.zip'),\r\n",
                "            ('httr_1.4.1.zip'),\r\n",
                "            ('ipred_0.9-9.zip'),\r\n",
                "            ('isoband_0.2.1.zip'),\r\n",
                "            ('iterators_1.0.12.zip'),\r\n",
                "            ('itertools_0.1-3.zip'),\r\n",
                "            ('jsonlite_1.6.1.zip'),\r\n",
                "            ('knitr_1.28.zip'),\r\n",
                "            ('labeling_0.3.zip'),\r\n",
                "            ('Lahman_7.0-1.zip'),\r\n",
                "            ('lava_1.6.7.zip'),\r\n",
                "            ('lazyeval_0.2.2.zip'),\r\n",
                "            ('lifecycle_0.2.0.zip'),\r\n",
                "            ('lubridate_1.7.8.zip'),\r\n",
                "            ('magrittr_1.5.zip'),\r\n",
                "            ('markdown_1.1.zip'),\r\n",
                "            ('memoise_1.1.0.zip'),\r\n",
                "            ('microbenchmark_1.4-7.zip'),\r\n",
                "            ('mime_0.9.zip'),\r\n",
                "            ('mlbench_2.1-1.zip'),\r\n",
                "            ('modeldata_0.0.1.zip'),\r\n",
                "            ('ModelMetrics_1.2.2.2.zip'),\r\n",
                "            ('modelr_0.1.6.zip'),\r\n",
                "            ('munsell_0.5.0.zip'),\r\n",
                "            ('nanotime_0.2.4.zip'),\r\n",
                "            ('numDeriv_2016.8-1.1.zip'),\r\n",
                "            ('nws_1.7.0.1.zip'),\r\n",
                "            ('nycflights13_1.0.1.zip'),\r\n",
                "            ('openssl_1.4.1.zip'),\r\n",
                "            ('pillar_1.4.3.zip'),\r\n",
                "            ('pkgbuild_1.0.6.zip'),\r\n",
                "            ('pkgconfig_2.0.3.zip'),\r\n",
                "            ('pkgload_1.0.2.zip'),\r\n",
                "            ('plogr_0.2.0.zip'),\r\n",
                "            ('plyr_1.8.6.zip'),\r\n",
                "            ('praise_1.0.0.zip'),\r\n",
                "            ('prettyunits_1.1.1.zip'),\r\n",
                "            ('processx_3.4.2.zip'),\r\n",
                "            ('pROC_1.16.2.zip'),\r\n",
                "            ('prodlim_2019.11.13.zip'),\r\n",
                "            ('progress_1.2.2.zip'),\r\n",
                "            ('ps_1.3.2.zip'),\r\n",
                "            ('purrr_0.3.4.zip'),\r\n",
                "            ('R.methodsS3_1.8.0.zip'),\r\n",
                "            ('R.oo_1.23.0.zip'),\r\n",
                "            ('R.utils_2.9.2.zip'),\r\n",
                "            ('R6_2.4.1.zip'),\r\n",
                "            ('randomForest_4.6-14.zip'),\r\n",
                "            ('RColorBrewer_1.1-2.zip'),\r\n",
                "            ('RcppCCTZ_0.2.7.zip'),\r\n",
                "            ('Rcpp_1.0.4.6.zip'),\r\n",
                "            ('readr_1.3.1.zip'),\r\n",
                "            ('readxl_1.3.1.zip'),\r\n",
                "            ('recipes_0.1.10.zip'),\r\n",
                "            ('rematch_1.0.1.zip'),\r\n",
                "            ('reprex_0.3.0.zip'),\r\n",
                "            ('repurrrsive_1.0.0.zip'),\r\n",
                "            ('reshape2_1.4.4.zip'),\r\n",
                "            ('rex_1.2.0.zip'),\r\n",
                "            ('rlang_0.4.5.zip'),\r\n",
                "            ('rlecuyer_0.3-5.zip'),\r\n",
                "            ('rmarkdown_2.1.zip'),\r\n",
                "            ('Rmpi_0.6-9.zip'),\r\n",
                "            ('RMySQL_0.10.20.zip'),\r\n",
                "            ('RODBC_1.3-16.zip'),\r\n",
                "            ('RPostgreSQL_0.6-2.zip'),\r\n",
                "            ('rprojroot_1.3-2.zip'),\r\n",
                "            ('RSQLite_2.2.0.zip'),\r\n",
                "            ('rstudioapi_0.11.zip'),\r\n",
                "            ('rvest_0.3.5.zip'),\r\n",
                "            ('scales_1.1.0.zip'),\r\n",
                "            ('selectr_0.4-2.zip'),\r\n",
                "            ('snow_0.4-3.zip'),\r\n",
                "            ('SQUAREM_2020.2.zip'),\r\n",
                "            ('stringi_1.4.6.zip'),\r\n",
                "            ('stringr_1.4.0.zip'),\r\n",
                "            ('sys_3.3.zip'),\r\n",
                "            ('testthat_2.3.2.zip'),\r\n",
                "            ('tibble_3.0.1.zip'),\r\n",
                "            ('tidyr_1.0.2.zip'),\r\n",
                "            ('tidyselect_1.0.0.zip'),\r\n",
                "            ('tidysir_0.1.0.zip'),\r\n",
                "            ('tidyverse_1.3.0.zip'),\r\n",
                "            ('timeDate_3043.102.zip'),\r\n",
                "            ('tinytex_0.22.zip'),\r\n",
                "            ('utf8_1.1.4.zip'),\r\n",
                "            ('vctrs_0.2.4.zip'),\r\n",
                "            ('viridisLite_0.3.0.zip'),\r\n",
                "            ('whisker_0.4.zip'),\r\n",
                "            ('withr_2.2.0.zip'),\r\n",
                "            ('xfun_0.13.zip'),\r\n",
                "            ('xml2_1.3.2.zip'),\r\n",
                "            ('xts_0.12-0.zip'),\r\n",
                "            ('yaml_2.2.1.zip'),\r\n",
                "            ('zoo_1.8-7.zip')\r\n",
                ") l (name)"
            ],
            "metadata": {
                "azdata_cell_guid": "5fd11506-23ec-4f42-813b-e688fcbe214d",
                "tags": [
                    "hide_input"
                ]
            },
            "outputs": [
                {
                    "output_type": "display_data",
                    "data": {
                        "text/html": "(140 rows affected)"
                    },
                    "metadata": {}
                },
                {
                    "output_type": "display_data",
                    "data": {
                        "text/html": "Total execution time: 00:00:00.102"
                    },
                    "metadata": {}
                },
                {
                    "output_type": "execute_result",
                    "execution_count": 15,
                    "data": {
                        "application/vnd.dataresource+json": {
                            "schema": {
                                "fields": [
                                    {
                                        "name": "(No column name)"
                                    }
                                ]
                            },
                            "data": [
                                {
                                    "0": "create external library [abind] from (content= 'c:\\packages\\r3.5.2\\installed\\abind_1.4-5.zip') with (language = 'R'); "
                                },
                                {
                                    "0": "create external library [askpass] from (content= 'c:\\packages\\r3.5.2\\installed\\askpass_1.1.zip') with (language = 'R'); "
                                },
                                {
                                    "0": "create external library [assertthat] from (content= 'c:\\packages\\r3.5.2\\installed\\assertthat_0.2.1.zip') with (language = 'R'); "
                                },
                                {
                                    "0": "create external library [backports] from (content= 'c:\\packages\\r3.5.2\\installed\\backports_1.1.6.zip') with (language = 'R'); "
                                },
                                {
                                    "0": "create external library [base64enc] from (content= 'c:\\packages\\r3.5.2\\installed\\base64enc_0.1-3.zip') with (language = 'R'); "
                                },
                                {
                                    "0": "create external library [BH] from (content= 'c:\\packages\\r3.5.2\\installed\\BH_1.72.0-3.zip') with (language = 'R'); "
                                },
                                {
                                    "0": "create external library [bit64] from (content= 'c:\\packages\\r3.5.2\\installed\\bit64_0.9-7.zip') with (language = 'R'); "
                                },
                                {
                                    "0": "create external library [bit] from (content= 'c:\\packages\\r3.5.2\\installed\\bit_1.1-15.2.zip') with (language = 'R'); "
                                },
                                {
                                    "0": "create external library [blob] from (content= 'c:\\packages\\r3.5.2\\installed\\blob_1.2.1.zip') with (language = 'R'); "
                                },
                                {
                                    "0": "create external library [broom] from (content= 'c:\\packages\\r3.5.2\\installed\\broom_0.5.6.zip') with (language = 'R'); "
                                },
                                {
                                    "0": "create external library [callr] from (content= 'c:\\packages\\r3.5.2\\installed\\callr_3.4.3.zip') with (language = 'R'); "
                                },
                                {
                                    "0": "create external library [caret] from (content= 'c:\\packages\\r3.5.2\\installed\\caret_6.0-86.zip') with (language = 'R'); "
                                },
                                {
                                    "0": "create external library [cellranger] from (content= 'c:\\packages\\r3.5.2\\installed\\cellranger_1.1.0.zip') with (language = 'R'); "
                                },
                                {
                                    "0": "create external library [clipr] from (content= 'c:\\packages\\r3.5.2\\installed\\clipr_0.7.0.zip') with (language = 'R'); "
                                },
                                {
                                    "0": "create external library [cli] from (content= 'c:\\packages\\r3.5.2\\installed\\cli_2.0.2.zip') with (language = 'R'); "
                                },
                                {
                                    "0": "create external library [colorspace] from (content= 'c:\\packages\\r3.5.2\\installed\\colorspace_1.4-1.zip') with (language = 'R'); "
                                },
                                {
                                    "0": "create external library [covr] from (content= 'c:\\packages\\r3.5.2\\installed\\covr_3.5.0.zip') with (language = 'R'); "
                                },
                                {
                                    "0": "create external library [crayon] from (content= 'c:\\packages\\r3.5.2\\installed\\crayon_1.3.4.zip') with (language = 'R'); "
                                },
                                {
                                    "0": "create external library [Cubist] from (content= 'c:\\packages\\r3.5.2\\installed\\Cubist_0.2.3.zip') with (language = 'R'); "
                                },
                                {
                                    "0": "create external library [curl] from (content= 'c:\\packages\\r3.5.2\\installed\\curl_4.3.zip') with (language = 'R'); "
                                },
                                {
                                    "0": "create external library [data.table] from (content= 'c:\\packages\\r3.5.2\\installed\\data.table_1.12.8.zip') with (language = 'R'); "
                                },
                                {
                                    "0": "create external library [DBI] from (content= 'c:\\packages\\r3.5.2\\installed\\DBI_1.1.0.zip') with (language = 'R'); "
                                },
                                {
                                    "0": "create external library [dbplyr] from (content= 'c:\\packages\\r3.5.2\\installed\\dbplyr_1.4.3.zip') with (language = 'R'); "
                                },
                                {
                                    "0": "create external library [desc] from (content= 'c:\\packages\\r3.5.2\\installed\\desc_1.2.0.zip') with (language = 'R'); "
                                },
                                {
                                    "0": "create external library [digest] from (content= 'c:\\packages\\r3.5.2\\installed\\digest_0.6.25.zip') with (language = 'R'); "
                                },
                                {
                                    "0": "create external library [doParallel] from (content= 'c:\\packages\\r3.5.2\\installed\\doParallel_1.0.15.zip') with (language = 'R'); "
                                },
                                {
                                    "0": "create external library [doSNOW] from (content= 'c:\\packages\\r3.5.2\\installed\\doSNOW_1.0.18.zip') with (language = 'R'); "
                                },
                                {
                                    "0": "create external library [dplyr] from (content= 'c:\\packages\\r3.5.2\\installed\\dplyr_0.8.5.zip') with (language = 'R'); "
                                },
                                {
                                    "0": "create external library [dtplyr] from (content= 'c:\\packages\\r3.5.2\\installed\\dtplyr_1.0.1.zip') with (language = 'R'); "
                                },
                                {
                                    "0": "create external library [ellipsis] from (content= 'c:\\packages\\r3.5.2\\installed\\ellipsis_0.3.0.zip') with (language = 'R'); "
                                },
                                {
                                    "0": "create external library [evaluate] from (content= 'c:\\packages\\r3.5.2\\installed\\evaluate_0.14.zip') with (language = 'R'); "
                                },
                                {
                                    "0": "create external library [fansi] from (content= 'c:\\packages\\r3.5.2\\installed\\fansi_0.4.1.zip') with (language = 'R'); "
                                },
                                {
                                    "0": "create external library [farver] from (content= 'c:\\packages\\r3.5.2\\installed\\farver_2.0.3.zip') with (language = 'R'); "
                                },
                                {
                                    "0": "create external library [feather] from (content= 'c:\\packages\\r3.5.2\\installed\\feather_0.3.5.zip') with (language = 'R'); "
                                },
                                {
                                    "0": "create external library [forcats] from (content= 'c:\\packages\\r3.5.2\\installed\\forcats_0.5.0.zip') with (language = 'R'); "
                                },
                                {
                                    "0": "create external library [foreach] from (content= 'c:\\packages\\r3.5.2\\installed\\foreach_1.5.0.zip') with (language = 'R'); "
                                },
                                {
                                    "0": "create external library [fs] from (content= 'c:\\packages\\r3.5.2\\installed\\fs_1.4.1.zip') with (language = 'R'); "
                                },
                                {
                                    "0": "create external library [generics] from (content= 'c:\\packages\\r3.5.2\\installed\\generics_0.0.2.zip') with (language = 'R'); "
                                },
                                {
                                    "0": "create external library [ggplot2] from (content= 'c:\\packages\\r3.5.2\\installed\\ggplot2_3.3.0.zip') with (language = 'R'); "
                                },
                                {
                                    "0": "create external library [glue] from (content= 'c:\\packages\\r3.5.2\\installed\\glue_1.4.0.zip') with (language = 'R'); "
                                },
                                {
                                    "0": "create external library [gower] from (content= 'c:\\packages\\r3.5.2\\installed\\gower_0.2.1.zip') with (language = 'R'); "
                                },
                                {
                                    "0": "create external library [gtable] from (content= 'c:\\packages\\r3.5.2\\installed\\gtable_0.3.0.zip') with (language = 'R'); "
                                },
                                {
                                    "0": "create external library [haven] from (content= 'c:\\packages\\r3.5.2\\installed\\haven_2.2.0.zip') with (language = 'R'); "
                                },
                                {
                                    "0": "create external library [highr] from (content= 'c:\\packages\\r3.5.2\\installed\\highr_0.8.zip') with (language = 'R'); "
                                },
                                {
                                    "0": "create external library [hms] from (content= 'c:\\packages\\r3.5.2\\installed\\hms_0.5.3.zip') with (language = 'R'); "
                                },
                                {
                                    "0": "create external library [htmltools] from (content= 'c:\\packages\\r3.5.2\\installed\\htmltools_0.4.0.zip') with (language = 'R'); "
                                },
                                {
                                    "0": "create external library [httr] from (content= 'c:\\packages\\r3.5.2\\installed\\httr_1.4.1.zip') with (language = 'R'); "
                                },
                                {
                                    "0": "create external library [ipred] from (content= 'c:\\packages\\r3.5.2\\installed\\ipred_0.9-9.zip') with (language = 'R'); "
                                },
                                {
                                    "0": "create external library [isoband] from (content= 'c:\\packages\\r3.5.2\\installed\\isoband_0.2.1.zip') with (language = 'R'); "
                                },
                                {
                                    "0": "create external library [iterators] from (content= 'c:\\packages\\r3.5.2\\installed\\iterators_1.0.12.zip') with (language = 'R'); "
                                },
                                {
                                    "0": "create external library [itertools] from (content= 'c:\\packages\\r3.5.2\\installed\\itertools_0.1-3.zip') with (language = 'R'); "
                                },
                                {
                                    "0": "create external library [jsonlite] from (content= 'c:\\packages\\r3.5.2\\installed\\jsonlite_1.6.1.zip') with (language = 'R'); "
                                },
                                {
                                    "0": "create external library [knitr] from (content= 'c:\\packages\\r3.5.2\\installed\\knitr_1.28.zip') with (language = 'R'); "
                                },
                                {
                                    "0": "create external library [labeling] from (content= 'c:\\packages\\r3.5.2\\installed\\labeling_0.3.zip') with (language = 'R'); "
                                },
                                {
                                    "0": "create external library [Lahman] from (content= 'c:\\packages\\r3.5.2\\installed\\Lahman_7.0-1.zip') with (language = 'R'); "
                                },
                                {
                                    "0": "create external library [lava] from (content= 'c:\\packages\\r3.5.2\\installed\\lava_1.6.7.zip') with (language = 'R'); "
                                },
                                {
                                    "0": "create external library [lazyeval] from (content= 'c:\\packages\\r3.5.2\\installed\\lazyeval_0.2.2.zip') with (language = 'R'); "
                                },
                                {
                                    "0": "create external library [lifecycle] from (content= 'c:\\packages\\r3.5.2\\installed\\lifecycle_0.2.0.zip') with (language = 'R'); "
                                },
                                {
                                    "0": "create external library [lubridate] from (content= 'c:\\packages\\r3.5.2\\installed\\lubridate_1.7.8.zip') with (language = 'R'); "
                                },
                                {
                                    "0": "create external library [magrittr] from (content= 'c:\\packages\\r3.5.2\\installed\\magrittr_1.5.zip') with (language = 'R'); "
                                },
                                {
                                    "0": "create external library [markdown] from (content= 'c:\\packages\\r3.5.2\\installed\\markdown_1.1.zip') with (language = 'R'); "
                                },
                                {
                                    "0": "create external library [memoise] from (content= 'c:\\packages\\r3.5.2\\installed\\memoise_1.1.0.zip') with (language = 'R'); "
                                },
                                {
                                    "0": "create external library [microbenchmark] from (content= 'c:\\packages\\r3.5.2\\installed\\microbenchmark_1.4-7.zip') with (language = 'R'); "
                                },
                                {
                                    "0": "create external library [mime] from (content= 'c:\\packages\\r3.5.2\\installed\\mime_0.9.zip') with (language = 'R'); "
                                },
                                {
                                    "0": "create external library [mlbench] from (content= 'c:\\packages\\r3.5.2\\installed\\mlbench_2.1-1.zip') with (language = 'R'); "
                                },
                                {
                                    "0": "create external library [modeldata] from (content= 'c:\\packages\\r3.5.2\\installed\\modeldata_0.0.1.zip') with (language = 'R'); "
                                },
                                {
                                    "0": "create external library [ModelMetrics] from (content= 'c:\\packages\\r3.5.2\\installed\\ModelMetrics_1.2.2.2.zip') with (language = 'R'); "
                                },
                                {
                                    "0": "create external library [modelr] from (content= 'c:\\packages\\r3.5.2\\installed\\modelr_0.1.6.zip') with (language = 'R'); "
                                },
                                {
                                    "0": "create external library [munsell] from (content= 'c:\\packages\\r3.5.2\\installed\\munsell_0.5.0.zip') with (language = 'R'); "
                                },
                                {
                                    "0": "create external library [nanotime] from (content= 'c:\\packages\\r3.5.2\\installed\\nanotime_0.2.4.zip') with (language = 'R'); "
                                },
                                {
                                    "0": "create external library [numDeriv] from (content= 'c:\\packages\\r3.5.2\\installed\\numDeriv_2016.8-1.1.zip') with (language = 'R'); "
                                },
                                {
                                    "0": "create external library [nws] from (content= 'c:\\packages\\r3.5.2\\installed\\nws_1.7.0.1.zip') with (language = 'R'); "
                                },
                                {
                                    "0": "create external library [nycflights13] from (content= 'c:\\packages\\r3.5.2\\installed\\nycflights13_1.0.1.zip') with (language = 'R'); "
                                },
                                {
                                    "0": "create external library [openssl] from (content= 'c:\\packages\\r3.5.2\\installed\\openssl_1.4.1.zip') with (language = 'R'); "
                                },
                                {
                                    "0": "create external library [pillar] from (content= 'c:\\packages\\r3.5.2\\installed\\pillar_1.4.3.zip') with (language = 'R'); "
                                },
                                {
                                    "0": "create external library [pkgbuild] from (content= 'c:\\packages\\r3.5.2\\installed\\pkgbuild_1.0.6.zip') with (language = 'R'); "
                                },
                                {
                                    "0": "create external library [pkgconfig] from (content= 'c:\\packages\\r3.5.2\\installed\\pkgconfig_2.0.3.zip') with (language = 'R'); "
                                },
                                {
                                    "0": "create external library [pkgload] from (content= 'c:\\packages\\r3.5.2\\installed\\pkgload_1.0.2.zip') with (language = 'R'); "
                                },
                                {
                                    "0": "create external library [plogr] from (content= 'c:\\packages\\r3.5.2\\installed\\plogr_0.2.0.zip') with (language = 'R'); "
                                },
                                {
                                    "0": "create external library [plyr] from (content= 'c:\\packages\\r3.5.2\\installed\\plyr_1.8.6.zip') with (language = 'R'); "
                                },
                                {
                                    "0": "create external library [praise] from (content= 'c:\\packages\\r3.5.2\\installed\\praise_1.0.0.zip') with (language = 'R'); "
                                },
                                {
                                    "0": "create external library [prettyunits] from (content= 'c:\\packages\\r3.5.2\\installed\\prettyunits_1.1.1.zip') with (language = 'R'); "
                                },
                                {
                                    "0": "create external library [processx] from (content= 'c:\\packages\\r3.5.2\\installed\\processx_3.4.2.zip') with (language = 'R'); "
                                },
                                {
                                    "0": "create external library [pROC] from (content= 'c:\\packages\\r3.5.2\\installed\\pROC_1.16.2.zip') with (language = 'R'); "
                                },
                                {
                                    "0": "create external library [prodlim] from (content= 'c:\\packages\\r3.5.2\\installed\\prodlim_2019.11.13.zip') with (language = 'R'); "
                                },
                                {
                                    "0": "create external library [progress] from (content= 'c:\\packages\\r3.5.2\\installed\\progress_1.2.2.zip') with (language = 'R'); "
                                },
                                {
                                    "0": "create external library [ps] from (content= 'c:\\packages\\r3.5.2\\installed\\ps_1.3.2.zip') with (language = 'R'); "
                                },
                                {
                                    "0": "create external library [purrr] from (content= 'c:\\packages\\r3.5.2\\installed\\purrr_0.3.4.zip') with (language = 'R'); "
                                },
                                {
                                    "0": "create external library [R.methodsS3] from (content= 'c:\\packages\\r3.5.2\\installed\\R.methodsS3_1.8.0.zip') with (language = 'R'); "
                                },
                                {
                                    "0": "create external library [R.oo] from (content= 'c:\\packages\\r3.5.2\\installed\\R.oo_1.23.0.zip') with (language = 'R'); "
                                },
                                {
                                    "0": "create external library [R.utils] from (content= 'c:\\packages\\r3.5.2\\installed\\R.utils_2.9.2.zip') with (language = 'R'); "
                                },
                                {
                                    "0": "create external library [R6] from (content= 'c:\\packages\\r3.5.2\\installed\\R6_2.4.1.zip') with (language = 'R'); "
                                },
                                {
                                    "0": "create external library [randomForest] from (content= 'c:\\packages\\r3.5.2\\installed\\randomForest_4.6-14.zip') with (language = 'R'); "
                                },
                                {
                                    "0": "create external library [RColorBrewer] from (content= 'c:\\packages\\r3.5.2\\installed\\RColorBrewer_1.1-2.zip') with (language = 'R'); "
                                },
                                {
                                    "0": "create external library [RcppCCTZ] from (content= 'c:\\packages\\r3.5.2\\installed\\RcppCCTZ_0.2.7.zip') with (language = 'R'); "
                                },
                                {
                                    "0": "create external library [Rcpp] from (content= 'c:\\packages\\r3.5.2\\installed\\Rcpp_1.0.4.6.zip') with (language = 'R'); "
                                },
                                {
                                    "0": "create external library [readr] from (content= 'c:\\packages\\r3.5.2\\installed\\readr_1.3.1.zip') with (language = 'R'); "
                                },
                                {
                                    "0": "create external library [readxl] from (content= 'c:\\packages\\r3.5.2\\installed\\readxl_1.3.1.zip') with (language = 'R'); "
                                },
                                {
                                    "0": "create external library [recipes] from (content= 'c:\\packages\\r3.5.2\\installed\\recipes_0.1.10.zip') with (language = 'R'); "
                                },
                                {
                                    "0": "create external library [rematch] from (content= 'c:\\packages\\r3.5.2\\installed\\rematch_1.0.1.zip') with (language = 'R'); "
                                },
                                {
                                    "0": "create external library [reprex] from (content= 'c:\\packages\\r3.5.2\\installed\\reprex_0.3.0.zip') with (language = 'R'); "
                                },
                                {
                                    "0": "create external library [repurrrsive] from (content= 'c:\\packages\\r3.5.2\\installed\\repurrrsive_1.0.0.zip') with (language = 'R'); "
                                },
                                {
                                    "0": "create external library [reshape2] from (content= 'c:\\packages\\r3.5.2\\installed\\reshape2_1.4.4.zip') with (language = 'R'); "
                                },
                                {
                                    "0": "create external library [rex] from (content= 'c:\\packages\\r3.5.2\\installed\\rex_1.2.0.zip') with (language = 'R'); "
                                },
                                {
                                    "0": "create external library [rlang] from (content= 'c:\\packages\\r3.5.2\\installed\\rlang_0.4.5.zip') with (language = 'R'); "
                                },
                                {
                                    "0": "create external library [rlecuyer] from (content= 'c:\\packages\\r3.5.2\\installed\\rlecuyer_0.3-5.zip') with (language = 'R'); "
                                },
                                {
                                    "0": "create external library [rmarkdown] from (content= 'c:\\packages\\r3.5.2\\installed\\rmarkdown_2.1.zip') with (language = 'R'); "
                                },
                                {
                                    "0": "create external library [Rmpi] from (content= 'c:\\packages\\r3.5.2\\installed\\Rmpi_0.6-9.zip') with (language = 'R'); "
                                },
                                {
                                    "0": "create external library [RMySQL] from (content= 'c:\\packages\\r3.5.2\\installed\\RMySQL_0.10.20.zip') with (language = 'R'); "
                                },
                                {
                                    "0": "create external library [RODBC] from (content= 'c:\\packages\\r3.5.2\\installed\\RODBC_1.3-16.zip') with (language = 'R'); "
                                },
                                {
                                    "0": "create external library [RPostgreSQL] from (content= 'c:\\packages\\r3.5.2\\installed\\RPostgreSQL_0.6-2.zip') with (language = 'R'); "
                                },
                                {
                                    "0": "create external library [rprojroot] from (content= 'c:\\packages\\r3.5.2\\installed\\rprojroot_1.3-2.zip') with (language = 'R'); "
                                },
                                {
                                    "0": "create external library [RSQLite] from (content= 'c:\\packages\\r3.5.2\\installed\\RSQLite_2.2.0.zip') with (language = 'R'); "
                                },
                                {
                                    "0": "create external library [rstudioapi] from (content= 'c:\\packages\\r3.5.2\\installed\\rstudioapi_0.11.zip') with (language = 'R'); "
                                },
                                {
                                    "0": "create external library [rvest] from (content= 'c:\\packages\\r3.5.2\\installed\\rvest_0.3.5.zip') with (language = 'R'); "
                                },
                                {
                                    "0": "create external library [scales] from (content= 'c:\\packages\\r3.5.2\\installed\\scales_1.1.0.zip') with (language = 'R'); "
                                },
                                {
                                    "0": "create external library [selectr] from (content= 'c:\\packages\\r3.5.2\\installed\\selectr_0.4-2.zip') with (language = 'R'); "
                                },
                                {
                                    "0": "create external library [snow] from (content= 'c:\\packages\\r3.5.2\\installed\\snow_0.4-3.zip') with (language = 'R'); "
                                },
                                {
                                    "0": "create external library [SQUAREM] from (content= 'c:\\packages\\r3.5.2\\installed\\SQUAREM_2020.2.zip') with (language = 'R'); "
                                },
                                {
                                    "0": "create external library [stringi] from (content= 'c:\\packages\\r3.5.2\\installed\\stringi_1.4.6.zip') with (language = 'R'); "
                                },
                                {
                                    "0": "create external library [stringr] from (content= 'c:\\packages\\r3.5.2\\installed\\stringr_1.4.0.zip') with (language = 'R'); "
                                },
                                {
                                    "0": "create external library [sys] from (content= 'c:\\packages\\r3.5.2\\installed\\sys_3.3.zip') with (language = 'R'); "
                                },
                                {
                                    "0": "create external library [testthat] from (content= 'c:\\packages\\r3.5.2\\installed\\testthat_2.3.2.zip') with (language = 'R'); "
                                },
                                {
                                    "0": "create external library [tibble] from (content= 'c:\\packages\\r3.5.2\\installed\\tibble_3.0.1.zip') with (language = 'R'); "
                                },
                                {
                                    "0": "create external library [tidyr] from (content= 'c:\\packages\\r3.5.2\\installed\\tidyr_1.0.2.zip') with (language = 'R'); "
                                },
                                {
                                    "0": "create external library [tidyselect] from (content= 'c:\\packages\\r3.5.2\\installed\\tidyselect_1.0.0.zip') with (language = 'R'); "
                                },
                                {
                                    "0": "create external library [tidysir] from (content= 'c:\\packages\\r3.5.2\\installed\\tidysir_0.1.0.zip') with (language = 'R'); "
                                },
                                {
                                    "0": "create external library [tidyverse] from (content= 'c:\\packages\\r3.5.2\\installed\\tidyverse_1.3.0.zip') with (language = 'R'); "
                                },
                                {
                                    "0": "create external library [timeDate] from (content= 'c:\\packages\\r3.5.2\\installed\\timeDate_3043.102.zip') with (language = 'R'); "
                                },
                                {
                                    "0": "create external library [tinytex] from (content= 'c:\\packages\\r3.5.2\\installed\\tinytex_0.22.zip') with (language = 'R'); "
                                },
                                {
                                    "0": "create external library [utf8] from (content= 'c:\\packages\\r3.5.2\\installed\\utf8_1.1.4.zip') with (language = 'R'); "
                                },
                                {
                                    "0": "create external library [vctrs] from (content= 'c:\\packages\\r3.5.2\\installed\\vctrs_0.2.4.zip') with (language = 'R'); "
                                },
                                {
                                    "0": "create external library [viridisLite] from (content= 'c:\\packages\\r3.5.2\\installed\\viridisLite_0.3.0.zip') with (language = 'R'); "
                                },
                                {
                                    "0": "create external library [whisker] from (content= 'c:\\packages\\r3.5.2\\installed\\whisker_0.4.zip') with (language = 'R'); "
                                },
                                {
                                    "0": "create external library [withr] from (content= 'c:\\packages\\r3.5.2\\installed\\withr_2.2.0.zip') with (language = 'R'); "
                                },
                                {
                                    "0": "create external library [xfun] from (content= 'c:\\packages\\r3.5.2\\installed\\xfun_0.13.zip') with (language = 'R'); "
                                },
                                {
                                    "0": "create external library [xml2] from (content= 'c:\\packages\\r3.5.2\\installed\\xml2_1.3.2.zip') with (language = 'R'); "
                                },
                                {
                                    "0": "create external library [xts] from (content= 'c:\\packages\\r3.5.2\\installed\\xts_0.12-0.zip') with (language = 'R'); "
                                },
                                {
                                    "0": "create external library [yaml] from (content= 'c:\\packages\\r3.5.2\\installed\\yaml_2.2.1.zip') with (language = 'R'); "
                                },
                                {
                                    "0": "create external library [zoo] from (content= 'c:\\packages\\r3.5.2\\installed\\zoo_1.8-7.zip') with (language = 'R'); "
                                }
                            ]
                        },
                        "text/html": "<table><tr><th>(No column name)</th></tr><tr><td>create external library [abind] from (content= 'c:\\packages\\r3.5.2\\installed\\abind_1.4-5.zip') with (language = 'R'); </td></tr><tr><td>create external library [askpass] from (content= 'c:\\packages\\r3.5.2\\installed\\askpass_1.1.zip') with (language = 'R'); </td></tr><tr><td>create external library [assertthat] from (content= 'c:\\packages\\r3.5.2\\installed\\assertthat_0.2.1.zip') with (language = 'R'); </td></tr><tr><td>create external library [backports] from (content= 'c:\\packages\\r3.5.2\\installed\\backports_1.1.6.zip') with (language = 'R'); </td></tr><tr><td>create external library [base64enc] from (content= 'c:\\packages\\r3.5.2\\installed\\base64enc_0.1-3.zip') with (language = 'R'); </td></tr><tr><td>create external library [BH] from (content= 'c:\\packages\\r3.5.2\\installed\\BH_1.72.0-3.zip') with (language = 'R'); </td></tr><tr><td>create external library [bit64] from (content= 'c:\\packages\\r3.5.2\\installed\\bit64_0.9-7.zip') with (language = 'R'); </td></tr><tr><td>create external library [bit] from (content= 'c:\\packages\\r3.5.2\\installed\\bit_1.1-15.2.zip') with (language = 'R'); </td></tr><tr><td>create external library [blob] from (content= 'c:\\packages\\r3.5.2\\installed\\blob_1.2.1.zip') with (language = 'R'); </td></tr><tr><td>create external library [broom] from (content= 'c:\\packages\\r3.5.2\\installed\\broom_0.5.6.zip') with (language = 'R'); </td></tr><tr><td>create external library [callr] from (content= 'c:\\packages\\r3.5.2\\installed\\callr_3.4.3.zip') with (language = 'R'); </td></tr><tr><td>create external library [caret] from (content= 'c:\\packages\\r3.5.2\\installed\\caret_6.0-86.zip') with (language = 'R'); </td></tr><tr><td>create external library [cellranger] from (content= 'c:\\packages\\r3.5.2\\installed\\cellranger_1.1.0.zip') with (language = 'R'); </td></tr><tr><td>create external library [clipr] from (content= 'c:\\packages\\r3.5.2\\installed\\clipr_0.7.0.zip') with (language = 'R'); </td></tr><tr><td>create external library [cli] from (content= 'c:\\packages\\r3.5.2\\installed\\cli_2.0.2.zip') with (language = 'R'); </td></tr><tr><td>create external library [colorspace] from (content= 'c:\\packages\\r3.5.2\\installed\\colorspace_1.4-1.zip') with (language = 'R'); </td></tr><tr><td>create external library [covr] from (content= 'c:\\packages\\r3.5.2\\installed\\covr_3.5.0.zip') with (language = 'R'); </td></tr><tr><td>create external library [crayon] from (content= 'c:\\packages\\r3.5.2\\installed\\crayon_1.3.4.zip') with (language = 'R'); </td></tr><tr><td>create external library [Cubist] from (content= 'c:\\packages\\r3.5.2\\installed\\Cubist_0.2.3.zip') with (language = 'R'); </td></tr><tr><td>create external library [curl] from (content= 'c:\\packages\\r3.5.2\\installed\\curl_4.3.zip') with (language = 'R'); </td></tr><tr><td>create external library [data.table] from (content= 'c:\\packages\\r3.5.2\\installed\\data.table_1.12.8.zip') with (language = 'R'); </td></tr><tr><td>create external library [DBI] from (content= 'c:\\packages\\r3.5.2\\installed\\DBI_1.1.0.zip') with (language = 'R'); </td></tr><tr><td>create external library [dbplyr] from (content= 'c:\\packages\\r3.5.2\\installed\\dbplyr_1.4.3.zip') with (language = 'R'); </td></tr><tr><td>create external library [desc] from (content= 'c:\\packages\\r3.5.2\\installed\\desc_1.2.0.zip') with (language = 'R'); </td></tr><tr><td>create external library [digest] from (content= 'c:\\packages\\r3.5.2\\installed\\digest_0.6.25.zip') with (language = 'R'); </td></tr><tr><td>create external library [doParallel] from (content= 'c:\\packages\\r3.5.2\\installed\\doParallel_1.0.15.zip') with (language = 'R'); </td></tr><tr><td>create external library [doSNOW] from (content= 'c:\\packages\\r3.5.2\\installed\\doSNOW_1.0.18.zip') with (language = 'R'); </td></tr><tr><td>create external library [dplyr] from (content= 'c:\\packages\\r3.5.2\\installed\\dplyr_0.8.5.zip') with (language = 'R'); </td></tr><tr><td>create external library [dtplyr] from (content= 'c:\\packages\\r3.5.2\\installed\\dtplyr_1.0.1.zip') with (language = 'R'); </td></tr><tr><td>create external library [ellipsis] from (content= 'c:\\packages\\r3.5.2\\installed\\ellipsis_0.3.0.zip') with (language = 'R'); </td></tr><tr><td>create external library [evaluate] from (content= 'c:\\packages\\r3.5.2\\installed\\evaluate_0.14.zip') with (language = 'R'); </td></tr><tr><td>create external library [fansi] from (content= 'c:\\packages\\r3.5.2\\installed\\fansi_0.4.1.zip') with (language = 'R'); </td></tr><tr><td>create external library [farver] from (content= 'c:\\packages\\r3.5.2\\installed\\farver_2.0.3.zip') with (language = 'R'); </td></tr><tr><td>create external library [feather] from (content= 'c:\\packages\\r3.5.2\\installed\\feather_0.3.5.zip') with (language = 'R'); </td></tr><tr><td>create external library [forcats] from (content= 'c:\\packages\\r3.5.2\\installed\\forcats_0.5.0.zip') with (language = 'R'); </td></tr><tr><td>create external library [foreach] from (content= 'c:\\packages\\r3.5.2\\installed\\foreach_1.5.0.zip') with (language = 'R'); </td></tr><tr><td>create external library [fs] from (content= 'c:\\packages\\r3.5.2\\installed\\fs_1.4.1.zip') with (language = 'R'); </td></tr><tr><td>create external library [generics] from (content= 'c:\\packages\\r3.5.2\\installed\\generics_0.0.2.zip') with (language = 'R'); </td></tr><tr><td>create external library [ggplot2] from (content= 'c:\\packages\\r3.5.2\\installed\\ggplot2_3.3.0.zip') with (language = 'R'); </td></tr><tr><td>create external library [glue] from (content= 'c:\\packages\\r3.5.2\\installed\\glue_1.4.0.zip') with (language = 'R'); </td></tr><tr><td>create external library [gower] from (content= 'c:\\packages\\r3.5.2\\installed\\gower_0.2.1.zip') with (language = 'R'); </td></tr><tr><td>create external library [gtable] from (content= 'c:\\packages\\r3.5.2\\installed\\gtable_0.3.0.zip') with (language = 'R'); </td></tr><tr><td>create external library [haven] from (content= 'c:\\packages\\r3.5.2\\installed\\haven_2.2.0.zip') with (language = 'R'); </td></tr><tr><td>create external library [highr] from (content= 'c:\\packages\\r3.5.2\\installed\\highr_0.8.zip') with (language = 'R'); </td></tr><tr><td>create external library [hms] from (content= 'c:\\packages\\r3.5.2\\installed\\hms_0.5.3.zip') with (language = 'R'); </td></tr><tr><td>create external library [htmltools] from (content= 'c:\\packages\\r3.5.2\\installed\\htmltools_0.4.0.zip') with (language = 'R'); </td></tr><tr><td>create external library [httr] from (content= 'c:\\packages\\r3.5.2\\installed\\httr_1.4.1.zip') with (language = 'R'); </td></tr><tr><td>create external library [ipred] from (content= 'c:\\packages\\r3.5.2\\installed\\ipred_0.9-9.zip') with (language = 'R'); </td></tr><tr><td>create external library [isoband] from (content= 'c:\\packages\\r3.5.2\\installed\\isoband_0.2.1.zip') with (language = 'R'); </td></tr><tr><td>create external library [iterators] from (content= 'c:\\packages\\r3.5.2\\installed\\iterators_1.0.12.zip') with (language = 'R'); </td></tr><tr><td>create external library [itertools] from (content= 'c:\\packages\\r3.5.2\\installed\\itertools_0.1-3.zip') with (language = 'R'); </td></tr><tr><td>create external library [jsonlite] from (content= 'c:\\packages\\r3.5.2\\installed\\jsonlite_1.6.1.zip') with (language = 'R'); </td></tr><tr><td>create external library [knitr] from (content= 'c:\\packages\\r3.5.2\\installed\\knitr_1.28.zip') with (language = 'R'); </td></tr><tr><td>create external library [labeling] from (content= 'c:\\packages\\r3.5.2\\installed\\labeling_0.3.zip') with (language = 'R'); </td></tr><tr><td>create external library [Lahman] from (content= 'c:\\packages\\r3.5.2\\installed\\Lahman_7.0-1.zip') with (language = 'R'); </td></tr><tr><td>create external library [lava] from (content= 'c:\\packages\\r3.5.2\\installed\\lava_1.6.7.zip') with (language = 'R'); </td></tr><tr><td>create external library [lazyeval] from (content= 'c:\\packages\\r3.5.2\\installed\\lazyeval_0.2.2.zip') with (language = 'R'); </td></tr><tr><td>create external library [lifecycle] from (content= 'c:\\packages\\r3.5.2\\installed\\lifecycle_0.2.0.zip') with (language = 'R'); </td></tr><tr><td>create external library [lubridate] from (content= 'c:\\packages\\r3.5.2\\installed\\lubridate_1.7.8.zip') with (language = 'R'); </td></tr><tr><td>create external library [magrittr] from (content= 'c:\\packages\\r3.5.2\\installed\\magrittr_1.5.zip') with (language = 'R'); </td></tr><tr><td>create external library [markdown] from (content= 'c:\\packages\\r3.5.2\\installed\\markdown_1.1.zip') with (language = 'R'); </td></tr><tr><td>create external library [memoise] from (content= 'c:\\packages\\r3.5.2\\installed\\memoise_1.1.0.zip') with (language = 'R'); </td></tr><tr><td>create external library [microbenchmark] from (content= 'c:\\packages\\r3.5.2\\installed\\microbenchmark_1.4-7.zip') with (language = 'R'); </td></tr><tr><td>create external library [mime] from (content= 'c:\\packages\\r3.5.2\\installed\\mime_0.9.zip') with (language = 'R'); </td></tr><tr><td>create external library [mlbench] from (content= 'c:\\packages\\r3.5.2\\installed\\mlbench_2.1-1.zip') with (language = 'R'); </td></tr><tr><td>create external library [modeldata] from (content= 'c:\\packages\\r3.5.2\\installed\\modeldata_0.0.1.zip') with (language = 'R'); </td></tr><tr><td>create external library [ModelMetrics] from (content= 'c:\\packages\\r3.5.2\\installed\\ModelMetrics_1.2.2.2.zip') with (language = 'R'); </td></tr><tr><td>create external library [modelr] from (content= 'c:\\packages\\r3.5.2\\installed\\modelr_0.1.6.zip') with (language = 'R'); </td></tr><tr><td>create external library [munsell] from (content= 'c:\\packages\\r3.5.2\\installed\\munsell_0.5.0.zip') with (language = 'R'); </td></tr><tr><td>create external library [nanotime] from (content= 'c:\\packages\\r3.5.2\\installed\\nanotime_0.2.4.zip') with (language = 'R'); </td></tr><tr><td>create external library [numDeriv] from (content= 'c:\\packages\\r3.5.2\\installed\\numDeriv_2016.8-1.1.zip') with (language = 'R'); </td></tr><tr><td>create external library [nws] from (content= 'c:\\packages\\r3.5.2\\installed\\nws_1.7.0.1.zip') with (language = 'R'); </td></tr><tr><td>create external library [nycflights13] from (content= 'c:\\packages\\r3.5.2\\installed\\nycflights13_1.0.1.zip') with (language = 'R'); </td></tr><tr><td>create external library [openssl] from (content= 'c:\\packages\\r3.5.2\\installed\\openssl_1.4.1.zip') with (language = 'R'); </td></tr><tr><td>create external library [pillar] from (content= 'c:\\packages\\r3.5.2\\installed\\pillar_1.4.3.zip') with (language = 'R'); </td></tr><tr><td>create external library [pkgbuild] from (content= 'c:\\packages\\r3.5.2\\installed\\pkgbuild_1.0.6.zip') with (language = 'R'); </td></tr><tr><td>create external library [pkgconfig] from (content= 'c:\\packages\\r3.5.2\\installed\\pkgconfig_2.0.3.zip') with (language = 'R'); </td></tr><tr><td>create external library [pkgload] from (content= 'c:\\packages\\r3.5.2\\installed\\pkgload_1.0.2.zip') with (language = 'R'); </td></tr><tr><td>create external library [plogr] from (content= 'c:\\packages\\r3.5.2\\installed\\plogr_0.2.0.zip') with (language = 'R'); </td></tr><tr><td>create external library [plyr] from (content= 'c:\\packages\\r3.5.2\\installed\\plyr_1.8.6.zip') with (language = 'R'); </td></tr><tr><td>create external library [praise] from (content= 'c:\\packages\\r3.5.2\\installed\\praise_1.0.0.zip') with (language = 'R'); </td></tr><tr><td>create external library [prettyunits] from (content= 'c:\\packages\\r3.5.2\\installed\\prettyunits_1.1.1.zip') with (language = 'R'); </td></tr><tr><td>create external library [processx] from (content= 'c:\\packages\\r3.5.2\\installed\\processx_3.4.2.zip') with (language = 'R'); </td></tr><tr><td>create external library [pROC] from (content= 'c:\\packages\\r3.5.2\\installed\\pROC_1.16.2.zip') with (language = 'R'); </td></tr><tr><td>create external library [prodlim] from (content= 'c:\\packages\\r3.5.2\\installed\\prodlim_2019.11.13.zip') with (language = 'R'); </td></tr><tr><td>create external library [progress] from (content= 'c:\\packages\\r3.5.2\\installed\\progress_1.2.2.zip') with (language = 'R'); </td></tr><tr><td>create external library [ps] from (content= 'c:\\packages\\r3.5.2\\installed\\ps_1.3.2.zip') with (language = 'R'); </td></tr><tr><td>create external library [purrr] from (content= 'c:\\packages\\r3.5.2\\installed\\purrr_0.3.4.zip') with (language = 'R'); </td></tr><tr><td>create external library [R.methodsS3] from (content= 'c:\\packages\\r3.5.2\\installed\\R.methodsS3_1.8.0.zip') with (language = 'R'); </td></tr><tr><td>create external library [R.oo] from (content= 'c:\\packages\\r3.5.2\\installed\\R.oo_1.23.0.zip') with (language = 'R'); </td></tr><tr><td>create external library [R.utils] from (content= 'c:\\packages\\r3.5.2\\installed\\R.utils_2.9.2.zip') with (language = 'R'); </td></tr><tr><td>create external library [R6] from (content= 'c:\\packages\\r3.5.2\\installed\\R6_2.4.1.zip') with (language = 'R'); </td></tr><tr><td>create external library [randomForest] from (content= 'c:\\packages\\r3.5.2\\installed\\randomForest_4.6-14.zip') with (language = 'R'); </td></tr><tr><td>create external library [RColorBrewer] from (content= 'c:\\packages\\r3.5.2\\installed\\RColorBrewer_1.1-2.zip') with (language = 'R'); </td></tr><tr><td>create external library [RcppCCTZ] from (content= 'c:\\packages\\r3.5.2\\installed\\RcppCCTZ_0.2.7.zip') with (language = 'R'); </td></tr><tr><td>create external library [Rcpp] from (content= 'c:\\packages\\r3.5.2\\installed\\Rcpp_1.0.4.6.zip') with (language = 'R'); </td></tr><tr><td>create external library [readr] from (content= 'c:\\packages\\r3.5.2\\installed\\readr_1.3.1.zip') with (language = 'R'); </td></tr><tr><td>create external library [readxl] from (content= 'c:\\packages\\r3.5.2\\installed\\readxl_1.3.1.zip') with (language = 'R'); </td></tr><tr><td>create external library [recipes] from (content= 'c:\\packages\\r3.5.2\\installed\\recipes_0.1.10.zip') with (language = 'R'); </td></tr><tr><td>create external library [rematch] from (content= 'c:\\packages\\r3.5.2\\installed\\rematch_1.0.1.zip') with (language = 'R'); </td></tr><tr><td>create external library [reprex] from (content= 'c:\\packages\\r3.5.2\\installed\\reprex_0.3.0.zip') with (language = 'R'); </td></tr><tr><td>create external library [repurrrsive] from (content= 'c:\\packages\\r3.5.2\\installed\\repurrrsive_1.0.0.zip') with (language = 'R'); </td></tr><tr><td>create external library [reshape2] from (content= 'c:\\packages\\r3.5.2\\installed\\reshape2_1.4.4.zip') with (language = 'R'); </td></tr><tr><td>create external library [rex] from (content= 'c:\\packages\\r3.5.2\\installed\\rex_1.2.0.zip') with (language = 'R'); </td></tr><tr><td>create external library [rlang] from (content= 'c:\\packages\\r3.5.2\\installed\\rlang_0.4.5.zip') with (language = 'R'); </td></tr><tr><td>create external library [rlecuyer] from (content= 'c:\\packages\\r3.5.2\\installed\\rlecuyer_0.3-5.zip') with (language = 'R'); </td></tr><tr><td>create external library [rmarkdown] from (content= 'c:\\packages\\r3.5.2\\installed\\rmarkdown_2.1.zip') with (language = 'R'); </td></tr><tr><td>create external library [Rmpi] from (content= 'c:\\packages\\r3.5.2\\installed\\Rmpi_0.6-9.zip') with (language = 'R'); </td></tr><tr><td>create external library [RMySQL] from (content= 'c:\\packages\\r3.5.2\\installed\\RMySQL_0.10.20.zip') with (language = 'R'); </td></tr><tr><td>create external library [RODBC] from (content= 'c:\\packages\\r3.5.2\\installed\\RODBC_1.3-16.zip') with (language = 'R'); </td></tr><tr><td>create external library [RPostgreSQL] from (content= 'c:\\packages\\r3.5.2\\installed\\RPostgreSQL_0.6-2.zip') with (language = 'R'); </td></tr><tr><td>create external library [rprojroot] from (content= 'c:\\packages\\r3.5.2\\installed\\rprojroot_1.3-2.zip') with (language = 'R'); </td></tr><tr><td>create external library [RSQLite] from (content= 'c:\\packages\\r3.5.2\\installed\\RSQLite_2.2.0.zip') with (language = 'R'); </td></tr><tr><td>create external library [rstudioapi] from (content= 'c:\\packages\\r3.5.2\\installed\\rstudioapi_0.11.zip') with (language = 'R'); </td></tr><tr><td>create external library [rvest] from (content= 'c:\\packages\\r3.5.2\\installed\\rvest_0.3.5.zip') with (language = 'R'); </td></tr><tr><td>create external library [scales] from (content= 'c:\\packages\\r3.5.2\\installed\\scales_1.1.0.zip') with (language = 'R'); </td></tr><tr><td>create external library [selectr] from (content= 'c:\\packages\\r3.5.2\\installed\\selectr_0.4-2.zip') with (language = 'R'); </td></tr><tr><td>create external library [snow] from (content= 'c:\\packages\\r3.5.2\\installed\\snow_0.4-3.zip') with (language = 'R'); </td></tr><tr><td>create external library [SQUAREM] from (content= 'c:\\packages\\r3.5.2\\installed\\SQUAREM_2020.2.zip') with (language = 'R'); </td></tr><tr><td>create external library [stringi] from (content= 'c:\\packages\\r3.5.2\\installed\\stringi_1.4.6.zip') with (language = 'R'); </td></tr><tr><td>create external library [stringr] from (content= 'c:\\packages\\r3.5.2\\installed\\stringr_1.4.0.zip') with (language = 'R'); </td></tr><tr><td>create external library [sys] from (content= 'c:\\packages\\r3.5.2\\installed\\sys_3.3.zip') with (language = 'R'); </td></tr><tr><td>create external library [testthat] from (content= 'c:\\packages\\r3.5.2\\installed\\testthat_2.3.2.zip') with (language = 'R'); </td></tr><tr><td>create external library [tibble] from (content= 'c:\\packages\\r3.5.2\\installed\\tibble_3.0.1.zip') with (language = 'R'); </td></tr><tr><td>create external library [tidyr] from (content= 'c:\\packages\\r3.5.2\\installed\\tidyr_1.0.2.zip') with (language = 'R'); </td></tr><tr><td>create external library [tidyselect] from (content= 'c:\\packages\\r3.5.2\\installed\\tidyselect_1.0.0.zip') with (language = 'R'); </td></tr><tr><td>create external library [tidysir] from (content= 'c:\\packages\\r3.5.2\\installed\\tidysir_0.1.0.zip') with (language = 'R'); </td></tr><tr><td>create external library [tidyverse] from (content= 'c:\\packages\\r3.5.2\\installed\\tidyverse_1.3.0.zip') with (language = 'R'); </td></tr><tr><td>create external library [timeDate] from (content= 'c:\\packages\\r3.5.2\\installed\\timeDate_3043.102.zip') with (language = 'R'); </td></tr><tr><td>create external library [tinytex] from (content= 'c:\\packages\\r3.5.2\\installed\\tinytex_0.22.zip') with (language = 'R'); </td></tr><tr><td>create external library [utf8] from (content= 'c:\\packages\\r3.5.2\\installed\\utf8_1.1.4.zip') with (language = 'R'); </td></tr><tr><td>create external library [vctrs] from (content= 'c:\\packages\\r3.5.2\\installed\\vctrs_0.2.4.zip') with (language = 'R'); </td></tr><tr><td>create external library [viridisLite] from (content= 'c:\\packages\\r3.5.2\\installed\\viridisLite_0.3.0.zip') with (language = 'R'); </td></tr><tr><td>create external library [whisker] from (content= 'c:\\packages\\r3.5.2\\installed\\whisker_0.4.zip') with (language = 'R'); </td></tr><tr><td>create external library [withr] from (content= 'c:\\packages\\r3.5.2\\installed\\withr_2.2.0.zip') with (language = 'R'); </td></tr><tr><td>create external library [xfun] from (content= 'c:\\packages\\r3.5.2\\installed\\xfun_0.13.zip') with (language = 'R'); </td></tr><tr><td>create external library [xml2] from (content= 'c:\\packages\\r3.5.2\\installed\\xml2_1.3.2.zip') with (language = 'R'); </td></tr><tr><td>create external library [xts] from (content= 'c:\\packages\\r3.5.2\\installed\\xts_0.12-0.zip') with (language = 'R'); </td></tr><tr><td>create external library [yaml] from (content= 'c:\\packages\\r3.5.2\\installed\\yaml_2.2.1.zip') with (language = 'R'); </td></tr><tr><td>create external library [zoo] from (content= 'c:\\packages\\r3.5.2\\installed\\zoo_1.8-7.zip') with (language = 'R'); </td></tr></table>"
                    },
                    "metadata": {}
                }
            ],
            "execution_count": 15
        },
        {
            "cell_type": "code",
            "source": [
                "create external library [abind] from (content= 'c:\\packages\\r3.5.2\\installed\\abind_1.4-5.zip') with (language = 'R'); \r\n",
                "create external library [askpass] from (content= 'c:\\packages\\r3.5.2\\installed\\askpass_1.1.zip') with (language = 'R'); \r\n",
                "create external library [assertthat] from (content= 'c:\\packages\\r3.5.2\\installed\\assertthat_0.2.1.zip') with (language = 'R'); \r\n",
                "create external library [backports] from (content= 'c:\\packages\\r3.5.2\\installed\\backports_1.1.6.zip') with (language = 'R'); \r\n",
                "create external library [base64enc] from (content= 'c:\\packages\\r3.5.2\\installed\\base64enc_0.1-3.zip') with (language = 'R'); \r\n",
                "create external library [BH] from (content= 'c:\\packages\\r3.5.2\\installed\\BH_1.72.0-3.zip') with (language = 'R'); \r\n",
                "create external library [bit64] from (content= 'c:\\packages\\r3.5.2\\installed\\bit64_0.9-7.zip') with (language = 'R'); \r\n",
                "create external library [bit] from (content= 'c:\\packages\\r3.5.2\\installed\\bit_1.1-15.2.zip') with (language = 'R'); \r\n",
                "create external library [blob] from (content= 'c:\\packages\\r3.5.2\\installed\\blob_1.2.1.zip') with (language = 'R'); \r\n",
                "create external library [broom] from (content= 'c:\\packages\\r3.5.2\\installed\\broom_0.5.6.zip') with (language = 'R'); \r\n",
                "create external library [callr] from (content= 'c:\\packages\\r3.5.2\\installed\\callr_3.4.3.zip') with (language = 'R'); \r\n",
                "create external library [caret] from (content= 'c:\\packages\\r3.5.2\\installed\\caret_6.0-86.zip') with (language = 'R'); \r\n",
                "create external library [cellranger] from (content= 'c:\\packages\\r3.5.2\\installed\\cellranger_1.1.0.zip') with (language = 'R'); \r\n",
                "create external library [clipr] from (content= 'c:\\packages\\r3.5.2\\installed\\clipr_0.7.0.zip') with (language = 'R'); \r\n",
                "create external library [cli] from (content= 'c:\\packages\\r3.5.2\\installed\\cli_2.0.2.zip') with (language = 'R'); \r\n",
                "create external library [colorspace] from (content= 'c:\\packages\\r3.5.2\\installed\\colorspace_1.4-1.zip') with (language = 'R'); \r\n",
                "create external library [covr] from (content= 'c:\\packages\\r3.5.2\\installed\\covr_3.5.0.zip') with (language = 'R'); \r\n",
                "create external library [crayon] from (content= 'c:\\packages\\r3.5.2\\installed\\crayon_1.3.4.zip') with (language = 'R'); \r\n",
                "create external library [Cubist] from (content= 'c:\\packages\\r3.5.2\\installed\\Cubist_0.2.3.zip') with (language = 'R'); \r\n",
                "create external library [curl] from (content= 'c:\\packages\\r3.5.2\\installed\\curl_4.3.zip') with (language = 'R'); \r\n",
                "create external library [data.table] from (content= 'c:\\packages\\r3.5.2\\installed\\data.table_1.12.8.zip') with (language = 'R'); \r\n",
                "create external library [DBI] from (content= 'c:\\packages\\r3.5.2\\installed\\DBI_1.1.0.zip') with (language = 'R'); \r\n",
                "create external library [dbplyr] from (content= 'c:\\packages\\r3.5.2\\installed\\dbplyr_1.4.3.zip') with (language = 'R'); \r\n",
                "create external library [desc] from (content= 'c:\\packages\\r3.5.2\\installed\\desc_1.2.0.zip') with (language = 'R'); \r\n",
                "create external library [digest] from (content= 'c:\\packages\\r3.5.2\\installed\\digest_0.6.25.zip') with (language = 'R'); \r\n",
                "create external library [doParallel] from (content= 'c:\\packages\\r3.5.2\\installed\\doParallel_1.0.15.zip') with (language = 'R'); \r\n",
                "create external library [doSNOW] from (content= 'c:\\packages\\r3.5.2\\installed\\doSNOW_1.0.18.zip') with (language = 'R'); \r\n",
                "create external library [dplyr] from (content= 'c:\\packages\\r3.5.2\\installed\\dplyr_0.8.5.zip') with (language = 'R'); \r\n",
                "create external library [dtplyr] from (content= 'c:\\packages\\r3.5.2\\installed\\dtplyr_1.0.1.zip') with (language = 'R'); \r\n",
                "create external library [ellipsis] from (content= 'c:\\packages\\r3.5.2\\installed\\ellipsis_0.3.0.zip') with (language = 'R'); \r\n",
                "create external library [evaluate] from (content= 'c:\\packages\\r3.5.2\\installed\\evaluate_0.14.zip') with (language = 'R'); \r\n",
                "create external library [fansi] from (content= 'c:\\packages\\r3.5.2\\installed\\fansi_0.4.1.zip') with (language = 'R'); \r\n",
                "create external library [farver] from (content= 'c:\\packages\\r3.5.2\\installed\\farver_2.0.3.zip') with (language = 'R'); \r\n",
                "create external library [feather] from (content= 'c:\\packages\\r3.5.2\\installed\\feather_0.3.5.zip') with (language = 'R'); \r\n",
                "create external library [forcats] from (content= 'c:\\packages\\r3.5.2\\installed\\forcats_0.5.0.zip') with (language = 'R'); \r\n",
                "create external library [foreach] from (content= 'c:\\packages\\r3.5.2\\installed\\foreach_1.5.0.zip') with (language = 'R'); \r\n",
                "create external library [fs] from (content= 'c:\\packages\\r3.5.2\\installed\\fs_1.4.1.zip') with (language = 'R'); \r\n",
                "create external library [generics] from (content= 'c:\\packages\\r3.5.2\\installed\\generics_0.0.2.zip') with (language = 'R'); \r\n",
                "create external library [ggplot2] from (content= 'c:\\packages\\r3.5.2\\installed\\ggplot2_3.3.0.zip') with (language = 'R'); \r\n",
                "create external library [glue] from (content= 'c:\\packages\\r3.5.2\\installed\\glue_1.4.0.zip') with (language = 'R'); \r\n",
                "create external library [gower] from (content= 'c:\\packages\\r3.5.2\\installed\\gower_0.2.1.zip') with (language = 'R'); \r\n",
                "create external library [gtable] from (content= 'c:\\packages\\r3.5.2\\installed\\gtable_0.3.0.zip') with (language = 'R'); \r\n",
                "create external library [haven] from (content= 'c:\\packages\\r3.5.2\\installed\\haven_2.2.0.zip') with (language = 'R'); \r\n",
                "create external library [highr] from (content= 'c:\\packages\\r3.5.2\\installed\\highr_0.8.zip') with (language = 'R'); \r\n",
                "create external library [hms] from (content= 'c:\\packages\\r3.5.2\\installed\\hms_0.5.3.zip') with (language = 'R'); \r\n",
                "create external library [htmltools] from (content= 'c:\\packages\\r3.5.2\\installed\\htmltools_0.4.0.zip') with (language = 'R'); \r\n",
                "create external library [httr] from (content= 'c:\\packages\\r3.5.2\\installed\\httr_1.4.1.zip') with (language = 'R'); \r\n",
                "create external library [ipred] from (content= 'c:\\packages\\r3.5.2\\installed\\ipred_0.9-9.zip') with (language = 'R'); \r\n",
                "create external library [isoband] from (content= 'c:\\packages\\r3.5.2\\installed\\isoband_0.2.1.zip') with (language = 'R'); \r\n",
                "create external library [iterators] from (content= 'c:\\packages\\r3.5.2\\installed\\iterators_1.0.12.zip') with (language = 'R'); \r\n",
                "create external library [itertools] from (content= 'c:\\packages\\r3.5.2\\installed\\itertools_0.1-3.zip') with (language = 'R'); \r\n",
                "create external library [jsonlite] from (content= 'c:\\packages\\r3.5.2\\installed\\jsonlite_1.6.1.zip') with (language = 'R'); \r\n",
                "create external library [knitr] from (content= 'c:\\packages\\r3.5.2\\installed\\knitr_1.28.zip') with (language = 'R'); \r\n",
                "create external library [labeling] from (content= 'c:\\packages\\r3.5.2\\installed\\labeling_0.3.zip') with (language = 'R'); \r\n",
                "create external library [Lahman] from (content= 'c:\\packages\\r3.5.2\\installed\\Lahman_7.0-1.zip') with (language = 'R'); \r\n",
                "create external library [lava] from (content= 'c:\\packages\\r3.5.2\\installed\\lava_1.6.7.zip') with (language = 'R'); \r\n",
                "create external library [lazyeval] from (content= 'c:\\packages\\r3.5.2\\installed\\lazyeval_0.2.2.zip') with (language = 'R'); \r\n",
                "create external library [lifecycle] from (content= 'c:\\packages\\r3.5.2\\installed\\lifecycle_0.2.0.zip') with (language = 'R'); \r\n",
                "create external library [lubridate] from (content= 'c:\\packages\\r3.5.2\\installed\\lubridate_1.7.8.zip') with (language = 'R'); \r\n",
                "create external library [magrittr] from (content= 'c:\\packages\\r3.5.2\\installed\\magrittr_1.5.zip') with (language = 'R'); \r\n",
                "create external library [markdown] from (content= 'c:\\packages\\r3.5.2\\installed\\markdown_1.1.zip') with (language = 'R'); \r\n",
                "create external library [memoise] from (content= 'c:\\packages\\r3.5.2\\installed\\memoise_1.1.0.zip') with (language = 'R'); \r\n",
                "create external library [microbenchmark] from (content= 'c:\\packages\\r3.5.2\\installed\\microbenchmark_1.4-7.zip') with (language = 'R'); \r\n",
                "create external library [mime] from (content= 'c:\\packages\\r3.5.2\\installed\\mime_0.9.zip') with (language = 'R'); \r\n",
                "create external library [mlbench] from (content= 'c:\\packages\\r3.5.2\\installed\\mlbench_2.1-1.zip') with (language = 'R'); \r\n",
                "create external library [modeldata] from (content= 'c:\\packages\\r3.5.2\\installed\\modeldata_0.0.1.zip') with (language = 'R'); \r\n",
                "create external library [ModelMetrics] from (content= 'c:\\packages\\r3.5.2\\installed\\ModelMetrics_1.2.2.2.zip') with (language = 'R'); \r\n",
                "create external library [modelr] from (content= 'c:\\packages\\r3.5.2\\installed\\modelr_0.1.6.zip') with (language = 'R'); \r\n",
                "create external library [munsell] from (content= 'c:\\packages\\r3.5.2\\installed\\munsell_0.5.0.zip') with (language = 'R'); \r\n",
                "create external library [nanotime] from (content= 'c:\\packages\\r3.5.2\\installed\\nanotime_0.2.4.zip') with (language = 'R'); \r\n",
                "create external library [numDeriv] from (content= 'c:\\packages\\r3.5.2\\installed\\numDeriv_2016.8-1.1.zip') with (language = 'R'); \r\n",
                "create external library [nws] from (content= 'c:\\packages\\r3.5.2\\installed\\nws_1.7.0.1.zip') with (language = 'R'); \r\n",
                "create external library [nycflights13] from (content= 'c:\\packages\\r3.5.2\\installed\\nycflights13_1.0.1.zip') with (language = 'R'); \r\n",
                "create external library [openssl] from (content= 'c:\\packages\\r3.5.2\\installed\\openssl_1.4.1.zip') with (language = 'R'); \r\n",
                "create external library [pillar] from (content= 'c:\\packages\\r3.5.2\\installed\\pillar_1.4.3.zip') with (language = 'R'); \r\n",
                "create external library [pkgbuild] from (content= 'c:\\packages\\r3.5.2\\installed\\pkgbuild_1.0.6.zip') with (language = 'R'); \r\n",
                "create external library [pkgconfig] from (content= 'c:\\packages\\r3.5.2\\installed\\pkgconfig_2.0.3.zip') with (language = 'R'); \r\n",
                "create external library [pkgload] from (content= 'c:\\packages\\r3.5.2\\installed\\pkgload_1.0.2.zip') with (language = 'R'); \r\n",
                "create external library [plogr] from (content= 'c:\\packages\\r3.5.2\\installed\\plogr_0.2.0.zip') with (language = 'R'); \r\n",
                "create external library [plyr] from (content= 'c:\\packages\\r3.5.2\\installed\\plyr_1.8.6.zip') with (language = 'R'); \r\n",
                "create external library [praise] from (content= 'c:\\packages\\r3.5.2\\installed\\praise_1.0.0.zip') with (language = 'R'); \r\n",
                "create external library [prettyunits] from (content= 'c:\\packages\\r3.5.2\\installed\\prettyunits_1.1.1.zip') with (language = 'R'); \r\n",
                "create external library [processx] from (content= 'c:\\packages\\r3.5.2\\installed\\processx_3.4.2.zip') with (language = 'R'); \r\n",
                "create external library [pROC] from (content= 'c:\\packages\\r3.5.2\\installed\\pROC_1.16.2.zip') with (language = 'R'); \r\n",
                "create external library [prodlim] from (content= 'c:\\packages\\r3.5.2\\installed\\prodlim_2019.11.13.zip') with (language = 'R'); \r\n",
                "create external library [progress] from (content= 'c:\\packages\\r3.5.2\\installed\\progress_1.2.2.zip') with (language = 'R'); \r\n",
                "create external library [ps] from (content= 'c:\\packages\\r3.5.2\\installed\\ps_1.3.2.zip') with (language = 'R'); \r\n",
                "create external library [purrr] from (content= 'c:\\packages\\r3.5.2\\installed\\purrr_0.3.4.zip') with (language = 'R'); \r\n",
                "create external library [R.methodsS3] from (content= 'c:\\packages\\r3.5.2\\installed\\R.methodsS3_1.8.0.zip') with (language = 'R'); \r\n",
                "create external library [R.oo] from (content= 'c:\\packages\\r3.5.2\\installed\\R.oo_1.23.0.zip') with (language = 'R'); \r\n",
                "create external library [R.utils] from (content= 'c:\\packages\\r3.5.2\\installed\\R.utils_2.9.2.zip') with (language = 'R'); \r\n",
                "create external library [R6] from (content= 'c:\\packages\\r3.5.2\\installed\\R6_2.4.1.zip') with (language = 'R'); \r\n",
                "create external library [randomForest] from (content= 'c:\\packages\\r3.5.2\\installed\\randomForest_4.6-14.zip') with (language = 'R'); \r\n",
                "create external library [RColorBrewer] from (content= 'c:\\packages\\r3.5.2\\installed\\RColorBrewer_1.1-2.zip') with (language = 'R'); \r\n",
                "create external library [RcppCCTZ] from (content= 'c:\\packages\\r3.5.2\\installed\\RcppCCTZ_0.2.7.zip') with (language = 'R'); \r\n",
                "create external library [Rcpp] from (content= 'c:\\packages\\r3.5.2\\installed\\Rcpp_1.0.4.6.zip') with (language = 'R'); \r\n",
                "create external library [readr] from (content= 'c:\\packages\\r3.5.2\\installed\\readr_1.3.1.zip') with (language = 'R'); \r\n",
                "create external library [readxl] from (content= 'c:\\packages\\r3.5.2\\installed\\readxl_1.3.1.zip') with (language = 'R'); \r\n",
                "create external library [recipes] from (content= 'c:\\packages\\r3.5.2\\installed\\recipes_0.1.10.zip') with (language = 'R'); \r\n",
                "create external library [rematch] from (content= 'c:\\packages\\r3.5.2\\installed\\rematch_1.0.1.zip') with (language = 'R'); \r\n",
                "create external library [reprex] from (content= 'c:\\packages\\r3.5.2\\installed\\reprex_0.3.0.zip') with (language = 'R'); \r\n",
                "create external library [repurrrsive] from (content= 'c:\\packages\\r3.5.2\\installed\\repurrrsive_1.0.0.zip') with (language = 'R'); \r\n",
                "create external library [reshape2] from (content= 'c:\\packages\\r3.5.2\\installed\\reshape2_1.4.4.zip') with (language = 'R'); \r\n",
                "create external library [rex] from (content= 'c:\\packages\\r3.5.2\\installed\\rex_1.2.0.zip') with (language = 'R'); \r\n",
                "create external library [rlang] from (content= 'c:\\packages\\r3.5.2\\installed\\rlang_0.4.5.zip') with (language = 'R'); \r\n",
                "create external library [rlecuyer] from (content= 'c:\\packages\\r3.5.2\\installed\\rlecuyer_0.3-5.zip') with (language = 'R'); \r\n",
                "create external library [rmarkdown] from (content= 'c:\\packages\\r3.5.2\\installed\\rmarkdown_2.1.zip') with (language = 'R'); \r\n",
                "create external library [Rmpi] from (content= 'c:\\packages\\r3.5.2\\installed\\Rmpi_0.6-9.zip') with (language = 'R'); \r\n",
                "create external library [RMySQL] from (content= 'c:\\packages\\r3.5.2\\installed\\RMySQL_0.10.20.zip') with (language = 'R'); \r\n",
                "create external library [RODBC] from (content= 'c:\\packages\\r3.5.2\\installed\\RODBC_1.3-16.zip') with (language = 'R'); \r\n",
                "create external library [RPostgreSQL] from (content= 'c:\\packages\\r3.5.2\\installed\\RPostgreSQL_0.6-2.zip') with (language = 'R'); \r\n",
                "create external library [rprojroot] from (content= 'c:\\packages\\r3.5.2\\installed\\rprojroot_1.3-2.zip') with (language = 'R'); \r\n",
                "create external library [RSQLite] from (content= 'c:\\packages\\r3.5.2\\installed\\RSQLite_2.2.0.zip') with (language = 'R'); \r\n",
                "create external library [rstudioapi] from (content= 'c:\\packages\\r3.5.2\\installed\\rstudioapi_0.11.zip') with (language = 'R'); \r\n",
                "create external library [rvest] from (content= 'c:\\packages\\r3.5.2\\installed\\rvest_0.3.5.zip') with (language = 'R'); \r\n",
                "create external library [scales] from (content= 'c:\\packages\\r3.5.2\\installed\\scales_1.1.0.zip') with (language = 'R'); \r\n",
                "create external library [selectr] from (content= 'c:\\packages\\r3.5.2\\installed\\selectr_0.4-2.zip') with (language = 'R'); \r\n",
                "create external library [snow] from (content= 'c:\\packages\\r3.5.2\\installed\\snow_0.4-3.zip') with (language = 'R'); \r\n",
                "create external library [SQUAREM] from (content= 'c:\\packages\\r3.5.2\\installed\\SQUAREM_2020.2.zip') with (language = 'R'); \r\n",
                "create external library [stringi] from (content= 'c:\\packages\\r3.5.2\\installed\\stringi_1.4.6.zip') with (language = 'R'); \r\n",
                "create external library [stringr] from (content= 'c:\\packages\\r3.5.2\\installed\\stringr_1.4.0.zip') with (language = 'R'); \r\n",
                "create external library [sys] from (content= 'c:\\packages\\r3.5.2\\installed\\sys_3.3.zip') with (language = 'R'); \r\n",
                "create external library [testthat] from (content= 'c:\\packages\\r3.5.2\\installed\\testthat_2.3.2.zip') with (language = 'R'); \r\n",
                "create external library [tibble] from (content= 'c:\\packages\\r3.5.2\\installed\\tibble_3.0.1.zip') with (language = 'R'); \r\n",
                "create external library [tidyr] from (content= 'c:\\packages\\r3.5.2\\installed\\tidyr_1.0.2.zip') with (language = 'R'); \r\n",
                "create external library [tidyselect] from (content= 'c:\\packages\\r3.5.2\\installed\\tidyselect_1.0.0.zip') with (language = 'R'); \r\n",
                "create external library [tidysir] from (content= 'c:\\packages\\r3.5.2\\installed\\tidysir_0.1.0.zip') with (language = 'R'); \r\n",
                "create external library [tidyverse] from (content= 'c:\\packages\\r3.5.2\\installed\\tidyverse_1.3.0.zip') with (language = 'R'); \r\n",
                "create external library [timeDate] from (content= 'c:\\packages\\r3.5.2\\installed\\timeDate_3043.102.zip') with (language = 'R'); \r\n",
                "create external library [tinytex] from (content= 'c:\\packages\\r3.5.2\\installed\\tinytex_0.22.zip') with (language = 'R'); \r\n",
                "create external library [utf8] from (content= 'c:\\packages\\r3.5.2\\installed\\utf8_1.1.4.zip') with (language = 'R'); \r\n",
                "create external library [vctrs] from (content= 'c:\\packages\\r3.5.2\\installed\\vctrs_0.2.4.zip') with (language = 'R'); \r\n",
                "create external library [viridisLite] from (content= 'c:\\packages\\r3.5.2\\installed\\viridisLite_0.3.0.zip') with (language = 'R'); \r\n",
                "create external library [whisker] from (content= 'c:\\packages\\r3.5.2\\installed\\whisker_0.4.zip') with (language = 'R'); \r\n",
                "create external library [withr] from (content= 'c:\\packages\\r3.5.2\\installed\\withr_2.2.0.zip') with (language = 'R'); \r\n",
                "create external library [xfun] from (content= 'c:\\packages\\r3.5.2\\installed\\xfun_0.13.zip') with (language = 'R'); \r\n",
                "create external library [xml2] from (content= 'c:\\packages\\r3.5.2\\installed\\xml2_1.3.2.zip') with (language = 'R'); \r\n",
                "create external library [xts] from (content= 'c:\\packages\\r3.5.2\\installed\\xts_0.12-0.zip') with (language = 'R'); \r\n",
                "create external library [yaml] from (content= 'c:\\packages\\r3.5.2\\installed\\yaml_2.2.1.zip') with (language = 'R'); \r\n",
                "create external library [zoo] from (content= 'c:\\packages\\r3.5.2\\installed\\zoo_1.8-7.zip') with (language = 'R'); "
            ],
            "metadata": {
                "azdata_cell_guid": "98e2221e-088d-4c12-b873-b2fbf9c5a6f3",
                "tags": [
                    "hide_input"
                ]
            },
            "outputs": [
                {
                    "output_type": "display_data",
                    "data": {
                        "text/html": "Commands completed successfully."
                    },
                    "metadata": {}
                },
                {
                    "output_type": "display_data",
                    "data": {
                        "text/html": "Total execution time: 00:00:01.132"
                    },
                    "metadata": {}
                }
            ],
            "execution_count": 16
        },
        {
            "cell_type": "code",
            "source": [
                "SELECT * FROM sys.dm_external_script_requests \r\n",
                "SELECT * FROM sys.dm_external_script_execution_stats WHERE COUNTER_VALUE <>0"
            ],
            "metadata": {
                "azdata_cell_guid": "a43a5456-5990-4c5b-9cbd-67c8664e4e96"
            },
            "outputs": [],
            "execution_count": null
        },
        {
            "cell_type": "code",
            "source": [
                "exec sp_execute_external_script \r\n",
                "    @language = N'R', \r\n",
                "    @script = N'\r\n",
                "input_dt <- cubist_sample_input\r\n",
                "output_dt <- cubist_sample_output\r\n",
                "'\r\n",
                ", @input_data_1 = N'select * from cubist_sample_input'\r\n",
                ", @input_data_1_name = N'cubist_sample_input'\r\n",
                ", @params = N'@input_data_2 nvarchar, @input_data_2_name nvarchar'\r\n",
                ", @input_data_2 = N'select * from cubist_sample_output'\r\n",
                ", @input_data_2_name = N'cubist_sample_output'\r\n",
                "GO"
            ],
            "metadata": {
                "azdata_cell_guid": "8c16c535-6136-461f-a743-2cd80937f18b"
            },
            "outputs": [
                {
                    "output_type": "error",
                    "ename": "",
                    "evalue": "Msg 39004, Level 16, State 20, Line 1\r\nA 'R' script error occurred during execution of 'sp_execute_external_script' with HRESULT 0x80004004.",
                    "traceback": []
                },
                {
                    "output_type": "error",
                    "ename": "",
                    "evalue": "Msg 39019, Level 16, State 2, Line 1\r\nAn external script error occurred: \nError in eval(ei, envir) : object 'cubist_sample_output' not found\r\nCalls: source -> withVisible -> eval -> eval\r\n\r\nError in execution.  Check the output for more information.\r\nError in eval(ei, envir) : \r\n  Error in execution.  Check the output for more information.\r\nCalls: runScriptFile -> source -> withVisible -> eval -> eval -> .Call\r\nExecution halted\r",
                    "traceback": []
                },
                {
                    "output_type": "display_data",
                    "data": {
                        "text/html": "Total execution time: 00:00:12.490"
                    },
                    "metadata": {}
                }
            ],
            "execution_count": 34
        },
        {
            "cell_type": "markdown",
            "source": [
                "## Proxy Sample\r\n",
                "https://github.com/hfleitas/AzureSynapseForActuaries/blob/main/CodeSamples/1a_2_proxy_example.R"
            ],
            "metadata": {
                "azdata_cell_guid": "89b5e069-ff22-4855-aa21-e01acde777ca"
            },
            "attachments": {}
        },
        {
            "cell_type": "code",
            "source": [
                "file_store_str <- \"C:/Your/Directory/Path/Here/cubist_sample_\"\r\n",
                "\r\n",
                "input_dt <- utils::read.table(base::file(description=base::paste0(file_store_str,\"input.txt\")), header=T, quote=\"\\\"\", sep=\",\")\r\n",
                "output_dt <- utils::read.table(base::unz(description=base::paste0(file_store_str,\"output.zip\"),filename=\"cubist_sample_output.txt\"), header=T, quote=\"\\\"\", sep=\",\")\r\n",
                "\r\n",
                "library(tidyr)\r\n",
                "library(plyr)\r\n",
                "library(stats)\r\n",
                "library(Cubist)\r\n",
                "library(purrr)\r\n",
                "\r\n",
                "library(dplyr)\r\n",
                "library(data.table)\r\n",
                "library(tidyverse)\r\n",
                "\r\n",
                "### go to server with this as parameter to SP in addition to the table parameters\r\n",
                "uniqueIDName     <- \"uniqueModelKey\"\r\n",
                "predictionName   <- \"targetCashflow\"\r\n",
                "regressorSearch  <- \"predictor\"\r\n",
                "committeeName    <- \"committeeParameter\"\r\n",
                "thePredictionSet <- \"thePredictionSpace\"\r\n",
                "\r\n",
                "getY             <- function(dt){as.numeric(unlist(dt[predictionName]))}\r\n",
                "getX             <- function(dt){dt[colnames(dt)[grep(regressorSearch,colnames(dt))]]}\r\n",
                "getCom           <- function(dt){as.numeric(dt[committeeName][[1]][1])}\r\n",
                "trainCubist      <- function(dt, com = 15, extp = 90){Cubist::cubist(y = getY(dt),x = getX(dt),committees = getCom(dt),control = Cubist::cubistControl(extrapolation = extp))}\r\n",
                "predictCubist    <- function(aModel, dt){stats::predict(aModel, newdata = getX(dt))}\r\n",
                "purrCubist       <- function(aModel, dt){purrr::map2(aModel,dt,predictCubist)}\r\n",
                "\r\n",
                "getNest          <- function(aDT,keyValue,newColumnName){\r\n",
                "  nestColumns <- base::colnames(aDT)[base::colnames(aDT)!=keyValue]\r\n",
                "  retNest <- tidyr::nest(aDT,newLabel=nestColumns)\r\n",
                "  colnames(retNest) <- base::c(keyValue,newColumnName)\r\n",
                "  return(retNest)\r\n",
                "}\r\n",
                "\r\n",
                "doJoin           <- function(aDT,bDT,byThis){dplyr::inner_join(aDT,bDT,by=byThis)}\r\n",
                "\r\n",
                "\r\n",
                "callResult        <- function(i,o,keyValue,predictSpace){\r\n",
                "                      stage <- base::paste0(\"doJoin(getNest(\",base::deparse(base::substitute(i)),\",'\",keyValue,\"','theInput'),getNest(\",base::deparse(base::substitute(o)),\",'\",keyValue,\"','\",predictSpace,\"'),'\",keyValue,\"')\")\r\n",
                "                      stage <- base::paste0('plyr::mutate(',stage,',theModel = purrr::map(theInput,trainCubist),theModelPrediction = purrCubist(theModel,',predictSpace,'))')\r\n",
                "                      exec_string <- base::parse(text=stage)\r\n",
                "                      result <- base::eval(exec_string)\r\n",
                "                      return(result)\r\n",
                "                      }\r\n",
                "\r\n",
                "result <- callResult(input_dt,output_dt,uniqueIDName,thePredictionSet)\r\n",
                "\r\n",
                "#outflows\r\n",
                "summary(result[1,]$theInput[[1]]$targetCashflow)\r\n",
                "summary(result[1,]$theModelPrediction[[1]])\r\n",
                "\r\n",
                "#inflows\r\n",
                "summary(result[2,]$theInput[[1]]$targetCashflow)\r\n",
                "summary(result[2,]$theModelPrediction[[1]])"
            ],
            "metadata": {
                "azdata_cell_guid": "849e03af-1abd-4699-9afb-d6adff042f89"
            },
            "outputs": [],
            "execution_count": null
        }
    ]
}